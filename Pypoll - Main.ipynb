{
 "cells": [
  {
   "cell_type": "code",
   "execution_count": 4,
   "metadata": {},
   "outputs": [],
   "source": []
  },
  {
   "cell_type": "code",
   "execution_count": 45,
   "metadata": {},
   "outputs": [
    {
     "name": "stdout",
     "output_type": "stream",
     "text": [
      "Election Results \n",
      "---------------------------\n",
      " Total votes: 3521001\n",
      "--------------------------- \n",
      "Khan : 63.000% (2218231)\n",
      "Correy : 20.000% (704200)\n",
      "Li : 14.000% (492940)\n",
      "O'Tooley : 3.000% (105630)\n",
      "--------------------------- \n",
      " Winner: Khan\n"
     ]
    }
   ],
   "source": [
    "import pandas as pd\n",
    "import numpy as np\n",
    "\n",
    "df = pd.read_csv('Pypoll.csv')\n",
    "df.head()\n",
    "\n",
    "print('Election Results \\n---------------------------\\n Total votes: {}\\n--------------------------- '.format(df['Voter ID'].nunique()))\n",
    "\n",
    "for i in df['Candidate'].unique().tolist():\n",
    "    a = df[df['Candidate']==i]['Voter ID'].nunique()/df['Voter ID'].nunique()\n",
    "    b = df[df['Candidate']==i]['Voter ID'].nunique()\n",
    "    print(i,': {:.3%} ({})'.format(a,b))\n",
    "\n",
    "df2 = df.groupby('Candidate')['Voter ID'].count().reset_index()\n",
    "print('--------------------------- \\n Winner: {}'.format(df2[df2['Voter ID'].idxmax():df2['Voter ID'].idxmax()+1].iloc[0,0]))"
   ]
  }
 ],
 "metadata": {
  "kernelspec": {
   "display_name": "Python 3",
   "language": "python",
   "name": "python3"
  },
  "language_info": {
   "codemirror_mode": {
    "name": "ipython",
    "version": 3
   },
   "file_extension": ".py",
   "mimetype": "text/x-python",
   "name": "python",
   "nbconvert_exporter": "python",
   "pygments_lexer": "ipython3",
   "version": "3.8.5"
  }
 },
 "nbformat": 4,
 "nbformat_minor": 4
}
